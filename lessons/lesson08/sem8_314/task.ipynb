{
 "cells": [
  {
   "cell_type": "markdown",
   "metadata": {},
   "source": [
    "# Декораторы"
   ]
  },
  {
   "cell_type": "markdown",
   "metadata": {},
   "source": [
    "# Задача 1: Суммы прогрессий\n",
    "\n",
    "Необходимо реализовать функционал для подсчета суммы первых n + 1 - членов арифметической и геометрической прогрессии с возможностями настройки шага и значения первого члена. n соответствует числу вызовов функции по подсчету суммы. \n",
    "\n",
    "Предполагаемые сценарии использования:\n",
    "\n",
    "```python\n",
    "\n",
    "sum_arithmetic = make_arithmetic_progression_sum(first_member=2, step=0.5)\n",
    "sum_geometric = make_geometric_progression_sum(first_member=1, step=0.5)\n",
    "\n",
    "print(sum_arithmetic())\n",
    "print(sum_arithmetic())\n",
    "print('')\n",
    "print(sum_geometric())\n",
    "print(sum_geometric())\n",
    "```\n",
    "\n",
    "*Вывод*:\n",
    "```console\n",
    "4.5\n",
    "7.5\n",
    "\n",
    "1.5\n",
    "1.75\n",
    "```"
   ]
  },
  {
   "cell_type": "code",
   "execution_count": 7,
   "metadata": {},
   "outputs": [],
   "source": [
    "def make_arithmetic_progression_sum(first_member: float, step: float):\n",
    "    last_member = first_member\n",
    "    def arithmetic_progression_sum():\n",
    "        nonlocal last_member\n",
    "        last_member += step\n",
    "        return last_member\n",
    "    return arithmetic_progression_sum\n",
    "\n",
    "\n",
    "def make_geometric_progression_sum(first_member: float, step: float):\n",
    "    last_member = first_member\n",
    "    def geometric_progression_sum():\n",
    "        nonlocal last_member\n",
    "        last_member *= step\n",
    "        return last_member\n",
    "    return geometric_progression_sum"
   ]
  },
  {
   "cell_type": "code",
   "execution_count": 8,
   "metadata": {},
   "outputs": [
    {
     "name": "stdout",
     "output_type": "stream",
     "text": [
      "15\n",
      "20\n"
     ]
    }
   ],
   "source": [
    "arithmetic = make_arithmetic_progression_sum(5, 10)\n",
    "print(arithmetic())\n",
    "geometric = make_geometric_progression_sum(10, 2)\n",
    "print(geometric())"
   ]
  },
  {
   "cell_type": "markdown",
   "metadata": {},
   "source": [
    "# Задача 2: Среднее\n",
    "\n",
    "Предположим, что мы занимаемся инвистициями и у нас есть некоторый портфель акций. Каждый день наш портфель приносит нам некоторый доход или убыток. Мы задались целью: каждый день фиксированного периода определять средний доход (или убыток), который мы получаем. С этой целью мы реализовали функцию get_avg(), принимающую на вход значение заработка на сегодняшний день. Наша функция вычисляет среднее в течении определнного фиксированного периода, скажем, 30 дней, после чего обнуляется и начинает вычислять среднее заново, но уже по новым значениям. \n",
    "\n",
    "Также у нас есть друзья инвесторы, которые оценили разработанный нами функционал и хотели бы заполучить свой экземпляр функции get_avg, для подсчета своего дохода в течении интересующего их промежутка времени.\n",
    "\n",
    "Ваша задача: реализовать функционал, для получения произвольного числа независимых функций get_avg(). В момент создания функции сообщается длительность периода расчета среднего, по достижении которого среднее начинает расчитываться заново, а также наш начальный доход. При каждом вызове функции передается число - заработок в текущий день.\n",
    "\n",
    "Предполагаемые сценарии использования:\n",
    "\n",
    "```python\n",
    "\n",
    "get_avg1 = make_averager(accumulation_period=2)\n",
    "print(get_avg1(78))\n",
    "print(get_avg1(-17))\n",
    "print(get_avg1(52))\n",
    "```\n",
    "\n",
    "*Вывод*:\n",
    "```console\n",
    "78.0\n",
    "30.5\n",
    "52.0\n",
    "```"
   ]
  },
  {
   "cell_type": "code",
   "execution_count": 3,
   "metadata": {},
   "outputs": [],
   "source": [
    "def make_averager(accumulation_period: int):\n",
    "    avg_sum = 0\n",
    "    counter = 0\n",
    "\n",
    "    def calculate(num: int):\n",
    "        nonlocal avg_sum, counter\n",
    "        if counter == accumulation_period:\n",
    "            counter = 0\n",
    "            avg_sum = 0\n",
    "\n",
    "        avg_sum += num\n",
    "        counter += 1\n",
    "        return avg_sum / counter\n",
    "    return calculate"
   ]
  },
  {
   "cell_type": "markdown",
   "metadata": {},
   "source": [
    "# Задача 3: Сбор статистик\n",
    "\n",
    "Предположим, что мы работаем в отделе аналитики некоторой компании. В компании также существуют другие отделы, которые разрабатывают некоторые функции для осуществления сложных вычислений. Также в нашей компании существует отдел планирования, который следит за исполнением сроков реализации той или иной функции, и в случае, если разработка затягивается, начинает торопить разработчиков. В таком случае разработчики пишут медленный код на скорую руку, что расстраивает заказчиков.\n",
    "\n",
    "Наша задача, как аналитиков, собрать статистику по проблемным функциям. Нас интересует количество вызовов функции, а также среднее время выполнения функции. Все статистики собираются в отдельную базу данных - специальный единый словарь. Более того, статистика должна собираться не для всех функций, а только для функций, зарегестрированных в базе данных. Затем эта информация будет передана начальству, чтобы в скорейшее время заняться переписанием долгих и популярных функций.\n",
    "\n",
    "Ваша задача реализовать функционал для регистрации функций в БД и сбора статистик. "
   ]
  },
  {
   "cell_type": "code",
   "execution_count": 18,
   "metadata": {},
   "outputs": [],
   "source": [
    "import time\n",
    "from random import randint\n",
    "from functools import wraps\n",
    "functions_register = {}\n",
    "\n",
    "def register(func):\n",
    "    if func not in functions_register:\n",
    "        functions_register[func] = {\n",
    "            'time_avg' : 0,\n",
    "            'calls_count' : 0\n",
    "        }\n",
    "    \n",
    "    return func\n",
    "\n",
    "def stats(func):\n",
    "    time_general = 0\n",
    "\n",
    "    def count_time(*args, **kwargs):\n",
    "        nonlocal time_general\n",
    "\n",
    "        t = time.time()\n",
    "\n",
    "        result = func(*args, **kwargs)\n",
    "\n",
    "        time_general += time.time() - t\n",
    "\n",
    "        if func in functions_register:\n",
    "            functions_register[func]['calls_count'] += 1\n",
    "            functions_register[func]['time_avg'] = (\n",
    "                time_general / functions_register[func]['calls_count'] )\n",
    "\n",
    "        return result\n",
    "    return count_time \n",
    "\n",
    "\n",
    "@stats\n",
    "@register\n",
    "def do_something(*args):\n",
    "    timer = randint(1, 10)\n",
    "    time.sleep(timer)\n",
    "    return timer"
   ]
  },
  {
   "cell_type": "code",
   "execution_count": 19,
   "metadata": {},
   "outputs": [
    {
     "name": "stdout",
     "output_type": "stream",
     "text": [
      "9\n",
      "{<function do_something at 0x0000018BD478C720>: {'time_avg': 9.006101131439209, 'calls_count': 1}}\n",
      "3\n",
      "{<function do_something at 0x0000018BD478C720>: {'time_avg': 6.003511667251587, 'calls_count': 2}}\n"
     ]
    }
   ],
   "source": [
    "print(do_something())\n",
    "print(functions_register)\n",
    "print(do_something())\n",
    "print(functions_register)"
   ]
  },
  {
   "cell_type": "markdown",
   "metadata": {},
   "source": [
    "# Задача 4: наивный LRU-кэш\n",
    "\n",
    "Представим, что вы являетесь сотрудником департамента оптимизаций некоторой компании, занимающейся разработкой ПО для научных вычислений. Раздел аналитиков предоставил вам исследование, согласно которому значительная часть функций в вашей компании работает очень медленно и должна быть оптимизирована. Более того, согласно исследованию, вызовы этих функций в основном осуществляются с ограниченным множеством аргументов. Для оптимизации этих функций вы решили использовать LRU-кэш:\n",
    "\n",
    "- вы заранее фиксируете размер кэша - памяти, выделенной для хранения результатов вычислений функции;  \n",
    "- в кэше хранится следующая информация: аргументы вызова - результат;  \n",
    "- помимо этого для каждой пары хранится время их последнего вызова;  \n",
    "- в случае достижения объема кэша установленной границы удаляются значения, чьи времена последних вызовов являются самыми старыми;  \n",
    "\n",
    "Для применения данного подхода ко всем проблемным функциям, не переписывая сами функции, вы решили реализовать параметрический декоратор, т.к. для разных функций требуется разный размер кеша.\n",
    "\n",
    "Ваша задача: реализовать описанный декоратор."
   ]
  },
  {
   "cell_type": "code",
   "execution_count": 21,
   "metadata": {},
   "outputs": [],
   "source": [
    "def lru_cache(cache_size: int):\n",
    "\n",
    "    def apply_cache(func):\n",
    "        args_info = {}\n",
    "        time_info = {}\n",
    "\n",
    "        def count_cache(*args, **kwargs):\n",
    "            nonlocal args_info, time_info\n",
    "\n",
    "            key = args + tuple(kwargs.values())\n",
    "            \n",
    "            if key in args_info:\n",
    "              time_info[key] = time.time()\n",
    "            else:\n",
    "                if cache_size == len(args_info):\n",
    "                    least = min(time_info.items(), lambda x: x[-1])\n",
    "                    del args_info[least[0]]\n",
    "                    del time_info[least[0]]\n",
    "\n",
    "                args_info[key] = func(*args, **kwargs)\n",
    "                time_info[key] = time.time()\n",
    "            print(args_info)\n",
    "            print(time_info)\n",
    "            return args_info[key]\n",
    "                \n",
    "        return count_cache\n",
    "    \n",
    "    return apply_cache\n",
    "\n",
    "@lru_cache(5)\n",
    "def something(*args):\n",
    "    timer = randint(1, 10)\n",
    "    time.sleep(timer)\n",
    "    return timer\n"
   ]
  },
  {
   "cell_type": "code",
   "execution_count": 23,
   "metadata": {},
   "outputs": [
    {
     "data": {
      "text/plain": [
       "10"
      ]
     },
     "execution_count": 23,
     "metadata": {},
     "output_type": "execute_result"
    }
   ],
   "source": [
    "do_something(1)\n",
    "do_something(1, 2, 3)\n",
    "do_something(4)\n",
    "do_something(5)\n",
    "do_something(2)"
   ]
  }
 ],
 "metadata": {
  "kernelspec": {
   "display_name": "Python 3",
   "language": "python",
   "name": "python3"
  },
  "language_info": {
   "codemirror_mode": {
    "name": "ipython",
    "version": 3
   },
   "file_extension": ".py",
   "mimetype": "text/x-python",
   "name": "python",
   "nbconvert_exporter": "python",
   "pygments_lexer": "ipython3",
   "version": "3.12.0"
  }
 },
 "nbformat": 4,
 "nbformat_minor": 2
}
