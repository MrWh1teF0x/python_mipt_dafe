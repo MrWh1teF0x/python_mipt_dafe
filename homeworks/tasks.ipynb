{
 "cells": [
  {
   "cell_type": "markdown",
   "metadata": {},
   "source": [
    "# Семинар: строки"
   ]
  },
  {
   "cell_type": "markdown",
   "metadata": {},
   "source": [
    "## Разминка\n",
    "\n",
    "Реализовать две функции: первая удаляет все цифры в строке, вторая - все буквы."
   ]
  },
  {
   "cell_type": "code",
   "execution_count": 1,
   "metadata": {},
   "outputs": [],
   "source": [
    "def delete_digits(string: str) -> str:\n",
    "    return ''.join([x for x in string if x.isalpha()])\n",
    "\n",
    "\n",
    "def delete_letters(string: str) -> str:\n",
    "    return ''.join([x for x in string if x.isdigit()])"
   ]
  },
  {
   "cell_type": "markdown",
   "metadata": {},
   "source": [
    "**Тесты**:"
   ]
  },
  {
   "cell_type": "code",
   "execution_count": 2,
   "metadata": {},
   "outputs": [],
   "source": [
    "assert delete_digits('123abnd4FDhj32') == 'abndFDhj'\n",
    "assert delete_letters('123abnd4FDhj32') == '123432'"
   ]
  },
  {
   "cell_type": "markdown",
   "metadata": {},
   "source": [
    "## Задача 1: Наивный Шифр\n",
    "\n",
    "**Условие**:\n",
    "\n",
    "Мы решили зашифровать слово, состоящее из букв английского алфавита в нижнем регистре. Но поскольку наши познания в криптографии невелики для шифрования решено было использовать один из самых простых шифров: перестановка над английским алфавитом. Перестановка записывается следующим образом: заполняется список из 26 элементов; номер ячейки соответствует номеру буквы в полученной перестановке; содержимое ячейки - ASCII код буквы. Ваша задача - реализовать алгоритм, который будет шифровывать заданное слово по заданной перестановке.\n",
    "\n",
    "**Вход**:\n",
    "- word - строка, состоящая только из букв англиского алфавита в нижнем регистре;  \n",
    "- permutation - список, состоящий из 26 элементов; содержимое списка - ASCII-коды букв английского алфавита в нижнем регистре;\n",
    "\n",
    "**Выход**:\n",
    "\n",
    "- зашифрованное слово - строка;\n",
    "\n",
    "**Решение:**"
   ]
  },
  {
   "cell_type": "code",
   "execution_count": 1,
   "metadata": {},
   "outputs": [],
   "source": [
    "from string import ascii_lowercase\n",
    "def encode(word: str, permutation: list[int]) -> str:\n",
    "    d = {ascii_lowercase[i]: permutation[i] for i in range(len(permutation))}\n",
    "    return ''.join([chr(d[x]) for x in word])"
   ]
  },
  {
   "cell_type": "markdown",
   "metadata": {},
   "source": [
    "**Тесты**:"
   ]
  },
  {
   "cell_type": "code",
   "execution_count": 22,
   "metadata": {},
   "outputs": [
    {
     "data": {
      "text/plain": [
       "'zlllz'"
      ]
     },
     "execution_count": 22,
     "metadata": {},
     "output_type": "execute_result"
    }
   ],
   "source": [
    "permutation = [\n",
    "    122, 108, 99, 100, 101, 102, 103, 104, 105,\n",
    "    106, 107, 108, 109, 110, 108, 112, 113, 114,\n",
    "    115, 116, 117, 118, 119, 120, 121, 97\n",
    "]\n",
    "\n",
    "word = 'aboba'\n",
    "\n",
    "encode(word, permutation)"
   ]
  },
  {
   "cell_type": "markdown",
   "metadata": {},
   "source": [
    "**Объяснение:** в перестановке мы переставили буквы 'a' и 'z' местами."
   ]
  },
  {
   "cell_type": "markdown",
   "metadata": {},
   "source": [
    "## Задача 2: Переставь слова\n",
    "\n",
    "**Условие**:\n",
    "\n",
    "Дана последовательность символов: строка, состоящая из заглавных и строчных букв английского алфавита, знаков препинания и пробелов. Причем, строка составлена не самым грамотным пользователем, а потому количество пробелов между непробельными символами может быть произвольным. Также неисключено наличие пробелов в начале и в конце строки. Необходимо найти самое длинное слово в строке, самое короткое слово в строке и поменять их местами. В качестве ответа вернуть строку с переставленными словами. Пробелы между словами, а также в начале и конце строки необходимо оставить нетронутыми.\n",
    "\n",
    "Если слов одинковой длины несколько, необходимо взять первое встретевшееся.\n",
    "\n",
    "*Примечание*: словом считается любая последовательность символов, не содержащая пробелов.\n",
    "\n",
    "**Вход**:\n",
    "\n",
    "- строка, состоящая из букв английского алфавита, знаков препинания и пробелов;  \n",
    "\n",
    "**Выход:**\n",
    "\n",
    "- строка, в которой самое длинное слово и самое короткое слово переставлены;  \n",
    "\n",
    "**Решение**:"
   ]
  },
  {
   "cell_type": "code",
   "execution_count": 42,
   "metadata": {},
   "outputs": [],
   "source": [
    "def swap_words(sentence: str) -> str:\n",
    "    words = sentence.split()\n",
    "    max_word, min_word = max(words, key=len), min(words, key=len)\n",
    "    sentence = sentence.replace(max_word, min_word, 1)\n",
    "    sentence = sentence.replace(min_word, max_word, 1)\n",
    "    return sentence"
   ]
  },
  {
   "cell_type": "markdown",
   "metadata": {},
   "source": [
    "**Тесты:**"
   ]
  },
  {
   "cell_type": "code",
   "execution_count": 43,
   "metadata": {},
   "outputs": [
    {
     "data": {
      "text/plain": [
       "' bbbbbb b  c   dd  a'"
      ]
     },
     "execution_count": 43,
     "metadata": {},
     "output_type": "execute_result"
    }
   ],
   "source": [
    "assert ' dd b  c   a  ' == swap_words(' a b  c   dd  ')\n",
    "swap_words(' a b  c   dd  bbbbbb')"
   ]
  },
  {
   "cell_type": "markdown",
   "metadata": {},
   "source": [
    "## Задача 3: Правильная скобочная последовательность\n",
    "\n",
    "**Условие**:\n",
    "\n",
    "Правильная скобочная последовательность определяется следующим образом:\n",
    "\n",
    "- пустая строка - правильная скобочная последовательность;  \n",
    "- правильная скобочная последовательность, взятая в круглые скобки - правильная скобочная последовательность;  \n",
    "- правильная скобочная последовательность, к которой приписана слева или справа правильная скобочная последовательность — правильная скобочная последовательность;\n",
    "\n",
    "Итак, на вход подается строка, состоящая только из символов \"(\", \")\". Ваша задача - определить является ли поданная строка правильной скобочной последовательностью или нет.\n",
    "\n",
    "**Вход**:\n",
    "\n",
    "- sequence - строка, состоящая из круглых скобок;\n",
    "\n",
    "**Выход**:\n",
    "\n",
    "- булево значение, True, если строка - правильная скобочная последовательность, False - иначе;\n",
    "\n",
    "**Решение**:"
   ]
  },
  {
   "cell_type": "code",
   "execution_count": 26,
   "metadata": {},
   "outputs": [],
   "source": [
    "def is_correct_bracket_seq(sequence: str) -> bool:\n",
    "    res = 0\n",
    "    if sequence.count('(') != sequence.count(')'): return False\n",
    "    for a in sequence:\n",
    "        if a == '(':\n",
    "            res += 1\n",
    "        else:\n",
    "            res -= 1\n",
    "            if res < 0:\n",
    "                return False\n",
    "    return True"
   ]
  },
  {
   "cell_type": "markdown",
   "metadata": {},
   "source": [
    "**Тесты**:"
   ]
  },
  {
   "cell_type": "code",
   "execution_count": 28,
   "metadata": {},
   "outputs": [],
   "source": [
    "assert is_correct_bracket_seq('')\n",
    "assert is_correct_bracket_seq('((((())())))')\n",
    "assert not is_correct_bracket_seq(')(')"
   ]
  },
  {
   "cell_type": "markdown",
   "metadata": {},
   "source": [
    "## Задача 4: Странный калькулятор\n",
    "\n",
    "**Условие**:\n",
    "\n",
    "Назовем странным калькулятором калькулятор, который работает следующим образом:\n",
    "\n",
    "- на вход калькулятору подается строка, в которой описано некоторое алгебраическое выражение;  \n",
    "- операндами этого выражения являются исключительно целые числа, записанные в следующей форме: каждая цифра числа записана английским словом, обозначающим эту цифру; сами цифры, составляющие запись числа, записаны подряд. Например число десять будет иметь запись `onezero`;  \n",
    "- в состав строки входят только операторы сложения и умножения;  \n",
    "- операнды и операторы разделены пробелами;  \n",
    "- калькулятор вычисляет описанное таким образом выражение и вызвращает результат - целое число;   \n",
    "\n",
    "Ваша задача реализовать такой калькулятор.\n",
    "\n",
    "**Вход**:\n",
    "\n",
    "- строка, состоящая из слов 'zero', 'one', 'two', 'three', 'four', 'five', 'six', 'seven', 'eight', 'nine', символов '+' и '-' и пробелов;  \n",
    "\n",
    "**Выход**:\n",
    "\n",
    "- целое число - результат выполнения выражения;\n",
    "\n",
    "**Решение**:"
   ]
  },
  {
   "cell_type": "code",
   "execution_count": 29,
   "metadata": {},
   "outputs": [],
   "source": [
    "from string import digits\n",
    "def calculate(expression: str) -> int:\n",
    "    nums = ['zero', 'one', 'two', 'three', 'four', 'five', 'six', 'seven', 'eight', 'nine']\n",
    "    ops = {'+': True, '-': False}\n",
    "    d = {nums[i]: digits[i] for i in range(10)}\n",
    "    expression = expression.split()\n",
    "    res = 0\n",
    "    flag = True\n",
    "    for leksem in expression:\n",
    "        if len(leksem) == 1:\n",
    "            flag = ops[leksem]\n",
    "        else:\n",
    "            word = ''\n",
    "            num = ''\n",
    "            for a in leksem:\n",
    "                word += a\n",
    "                if word in d or word[1:] in d:\n",
    "                    if word[0] == '-':\n",
    "                        num += '-' + d[word[1:]]\n",
    "                    else:\n",
    "                        num += d[word]\n",
    "                    word = ''\n",
    "            if flag:\n",
    "                res += int(num)\n",
    "            else:\n",
    "                res -= int(num)\n",
    "    return res"
   ]
  },
  {
   "cell_type": "markdown",
   "metadata": {},
   "source": [
    "**Тесты**:"
   ]
  },
  {
   "cell_type": "code",
   "execution_count": 31,
   "metadata": {},
   "outputs": [],
   "source": [
    "assert calculate('-one + two + threefive - -onezero') == 46"
   ]
  },
  {
   "cell_type": "markdown",
   "metadata": {},
   "source": [
    "## Задача 5: Парсер\n",
    "\n",
    "Необходимо реализовать следующий алгоритм парсинга документов:\n",
    "\n",
    "- на вход алгоритму подается строка, которую необходимо распарсить, и пары специальных символов, которые поддерживаются парсером; например: \\</a>, \\<a>;  \n",
    "- строка состоит из специальных символов и строк, окруженных специальными символами;  \n",
    "- валидными считаются слова, которые заключены в правильную пару служебных символов, и служебные символы этой пары входят в список символов, поддерживаемых парсером; например, слово, заключенное в служебные символы: \\</a>word\\<a>, будет валидным, если \\</a> и \\<a> поддерживаются парсером - а слово, заключенное в служебные символы: \\</b>word\\<a> - не будет валидным ни в каком случае;  \n",
    "- парсер выделяет валидные слова, и сохраняет уникальные валидные слова в список;  \n",
    "\n",
    "Ваша задача - реализовать описанный алгоритм парсинга.\n",
    "\n",
    "**Вход:** \n",
    "\n",
    "- строка, состоящая из специальных символов следующего формата: \\<[ / ]english_letter>, - и из букв английского алфавита;  \n",
    "- список пар(кортежей) - валидных служебных конструкций;  \n",
    "\n",
    "**Выход**:\n",
    "\n",
    "- список уникальных валидных слов;  \n",
    "\n",
    "**Решение:**"
   ]
  },
  {
   "cell_type": "code",
   "execution_count": 44,
   "metadata": {},
   "outputs": [],
   "source": [
    "def parse(\n",
    "    string: str, valid_pairs: list[tuple[str, str]]\n",
    ") -> list[str]:\n",
    "    res = []\n",
    "    for valid_pair in valid_pairs:\n",
    "        string = string.replace(valid_pair[0][1:], f'{valid_pair[0][1:]} ')\n",
    "        string = string.replace(valid_pair[1][:-1], f' {valid_pair[1][:-1]}')\n",
    "    string = string.replace('><', '> <')\n",
    "    string = string.split()\n",
    "    for i in range(1, len(string)-1):\n",
    "        for valid_pair in valid_pairs:\n",
    "            if valid_pair[0] == string[i-1] and valid_pair[1] == string[i+1]:\n",
    "                if string[i] not in res:\n",
    "                    res.append(string[i])\n",
    "    return res\n",
    "    return res"
   ]
  },
  {
   "cell_type": "markdown",
   "metadata": {},
   "source": [
    "**Тесты:**"
   ]
  },
  {
   "cell_type": "code",
   "execution_count": 45,
   "metadata": {},
   "outputs": [
    {
     "data": {
      "text/plain": [
       "['frozenset', '<C>', 'list']"
      ]
     },
     "execution_count": 45,
     "metadata": {},
     "output_type": "execute_result"
    }
   ],
   "source": [
    "string = (\n",
    "    \"</p><p><a>float</b></p><p><b>frozenset</b><c><C></c>\"\n",
    "    \"</p><p><c>list</c></p><p><b>list</b>\"\n",
    ")\n",
    "valid_pairs = [(\"<a>\", \"</a>\"), (\"<b>\", \"</b>\"), (\"<c>\", \"</c>\")]\n",
    "\n",
    "parse(string, valid_pairs)"
   ]
  },
  {
   "cell_type": "markdown",
   "metadata": {},
   "source": [
    "## Задача 6: Умная консоль\n",
    "\n",
    "**Условие**:\n",
    "\n",
    "Вы работаете с консолью, которая имеет некий набор команд. Консоль достаточно умная и умеет исправлять ошибки пользователя, если ошибка незначительная. Незначительными считаются ошибки одного из трёх типов:\n",
    "\n",
    "- ввод одного лишнего символа;  \n",
    "- пропуск одного символа;  \n",
    "- один неправильно введенный символ; \n",
    "\n",
    "Притом описанные ошибки не должны вызывать неоднозначность. Так, например комманда \"gt\" с набором команд [cd, ls, git] будет восстановлена до команды git, но та же команда с набором команд [cd, ls, git, get] может соответствовать как команде \"get\", так и команде \"git\" и восстановлена не будет.\n",
    "\n",
    "Если команда написана с незначительной ошибкой, то консоль её автоматически исправляет и выполняет. Реализуйте алгоритм check_comand, который проверяет, выполнит ли консоль с заданным набором команд команду пользователя или нет.\n",
    "\n",
    "**Вход**:\n",
    "\n",
    "- user_comand - строка, команда, введенная пользователем;  \n",
    "- comands - список строк, команды, поддерживаемые консолью;  \n",
    "\n",
    "**Выход**:\n",
    "\n",
    "- булево значение: True, если команда будет выполнена, False - иначе;\n",
    "\n",
    "**Решение:**"
   ]
  },
  {
   "cell_type": "code",
   "execution_count": 46,
   "metadata": {},
   "outputs": [],
   "source": [
    "def check_comand(user_comand: str, comands: list[str]) -> bool:\n",
    "    flag = 0\n",
    "    for comand in comands:\n",
    "        f = False\n",
    "        for a in comand:\n",
    "            for i in range(len(user_comand)):\n",
    "                uc = list(user_comand)\n",
    "                uc[i] = a\n",
    "                if ''.join(uc) == comand:\n",
    "                    f = True\n",
    "                    break\n",
    "            for i in range(len(user_comand)+1):\n",
    "                uc = list(user_comand)\n",
    "                uc.insert(i, a)\n",
    "                if ''.join(uc) == comand:\n",
    "                    f = True\n",
    "                    break\n",
    "            for i in range(len(user_comand)):\n",
    "                uc = list(user_comand)\n",
    "                del uc[i]\n",
    "                if ''.join(uc) == comand:\n",
    "                    f = True\n",
    "                    break\n",
    "        flag += f\n",
    "    if flag == 1:\n",
    "        return True\n",
    "    return False"
   ]
  },
  {
   "cell_type": "markdown",
   "metadata": {},
   "source": [
    "**Тесты:**"
   ]
  },
  {
   "cell_type": "code",
   "execution_count": 47,
   "metadata": {},
   "outputs": [],
   "source": [
    "assert check_comand('gt', ['cd', 'ls', 'git']) \n",
    "assert not check_comand('gt', ['cd', 'ls', 'git', 'get'])"
   ]
  }
 ],
 "metadata": {
  "kernelspec": {
   "display_name": "Python 3",
   "language": "python",
   "name": "python3"
  },
  "language_info": {
   "codemirror_mode": {
    "name": "ipython",
    "version": 3
   },
   "file_extension": ".py",
   "mimetype": "text/x-python",
   "name": "python",
   "nbconvert_exporter": "python",
   "pygments_lexer": "ipython3",
   "version": "3.11.5"
  },
  "orig_nbformat": 4
 },
 "nbformat": 4,
 "nbformat_minor": 2
}
