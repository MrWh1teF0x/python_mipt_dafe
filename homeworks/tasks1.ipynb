{
 "cells": [
  {
   "cell_type": "code",
   "execution_count": 1,
   "metadata": {},
   "outputs": [],
   "source": [
    "from typing import Iterable, Any"
   ]
  },
  {
   "cell_type": "markdown",
   "metadata": {},
   "source": [
    "### Разминка: методы через срезы\n",
    "\n",
    "Значительную часть модифицирующих методов списков можно реализовать через срезы. Ваша задача реализовать аналоги методов append(), extend(), insert(), reverse(), используя только срезы."
   ]
  },
  {
   "cell_type": "code",
   "execution_count": 28,
   "metadata": {},
   "outputs": [
    {
     "ename": "NameError",
     "evalue": "name 'Any' is not defined",
     "output_type": "error",
     "traceback": [
      "\u001b[1;31m---------------------------------------------------------------------------\u001b[0m",
      "\u001b[1;31mNameError\u001b[0m                                 Traceback (most recent call last)",
      "\u001b[1;32mc:\\Users\\Акрамов Никита\\OneDrive\\projects\\Python_projects\\python_mipt_dafe\\lessons\\lesson3\\sem3_313\\tasks.ipynb Cell 3\u001b[0m line \u001b[0;36m1\n\u001b[1;32m----> <a href='vscode-notebook-cell:/c%3A/Users/%D0%90%D0%BA%D1%80%D0%B0%D0%BC%D0%BE%D0%B2%20%D0%9D%D0%B8%D0%BA%D0%B8%D1%82%D0%B0/OneDrive/projects/Python_projects/python_mipt_dafe/lessons/lesson3/sem3_313/tasks.ipynb#W2sZmlsZQ%3D%3D?line=0'>1</a>\u001b[0m \u001b[39mdef\u001b[39;00m \u001b[39mmy_append\u001b[39m(list_instance: \u001b[39mlist\u001b[39m, x: Any) \u001b[39m-\u001b[39m\u001b[39m>\u001b[39m \u001b[39mNone\u001b[39;00m:\n\u001b[0;32m      <a href='vscode-notebook-cell:/c%3A/Users/%D0%90%D0%BA%D1%80%D0%B0%D0%BC%D0%BE%D0%B2%20%D0%9D%D0%B8%D0%BA%D0%B8%D1%82%D0%B0/OneDrive/projects/Python_projects/python_mipt_dafe/lessons/lesson3/sem3_313/tasks.ipynb#W2sZmlsZQ%3D%3D?line=1'>2</a>\u001b[0m     list_instance[\u001b[39mlen\u001b[39m(list_instance):] \u001b[39m=\u001b[39m [x]\n\u001b[0;32m      <a href='vscode-notebook-cell:/c%3A/Users/%D0%90%D0%BA%D1%80%D0%B0%D0%BC%D0%BE%D0%B2%20%D0%9D%D0%B8%D0%BA%D0%B8%D1%82%D0%B0/OneDrive/projects/Python_projects/python_mipt_dafe/lessons/lesson3/sem3_313/tasks.ipynb#W2sZmlsZQ%3D%3D?line=3'>4</a>\u001b[0m \u001b[39mdef\u001b[39;00m \u001b[39mmy_extend\u001b[39m(\n\u001b[0;32m      <a href='vscode-notebook-cell:/c%3A/Users/%D0%90%D0%BA%D1%80%D0%B0%D0%BC%D0%BE%D0%B2%20%D0%9D%D0%B8%D0%BA%D0%B8%D1%82%D0%B0/OneDrive/projects/Python_projects/python_mipt_dafe/lessons/lesson3/sem3_313/tasks.ipynb#W2sZmlsZQ%3D%3D?line=4'>5</a>\u001b[0m     list_instance: \u001b[39mlist\u001b[39m, expansion: Iterable\n\u001b[0;32m      <a href='vscode-notebook-cell:/c%3A/Users/%D0%90%D0%BA%D1%80%D0%B0%D0%BC%D0%BE%D0%B2%20%D0%9D%D0%B8%D0%BA%D0%B8%D1%82%D0%B0/OneDrive/projects/Python_projects/python_mipt_dafe/lessons/lesson3/sem3_313/tasks.ipynb#W2sZmlsZQ%3D%3D?line=5'>6</a>\u001b[0m ) \u001b[39m-\u001b[39m\u001b[39m>\u001b[39m \u001b[39mNone\u001b[39;00m:\n",
      "\u001b[1;31mNameError\u001b[0m: name 'Any' is not defined"
     ]
    }
   ],
   "source": [
    "def my_append(list_instance: list, x: Any) -> None:\n",
    "    list_instance[len(list_instance):] = [x]\n",
    "\n",
    "def my_extend(\n",
    "    list_instance: list, expansion: Iterable\n",
    ") -> None:\n",
    "    list_instance[len(list_instance):] = expansion\n",
    "\n",
    "def my_insert(list_instance: list, i: int, x: int) -> None:\n",
    "    list_instance[i:i] = [x]\n",
    "\n",
    "def my_reverse(list_instance: list) -> None:\n",
    "    list_instance = list_instance[::-1]"
   ]
  },
  {
   "cell_type": "markdown",
   "metadata": {},
   "source": [
    "### Задача 1: Сложение\n",
    "\n",
    "На вход подаются два списка, репрезентирующие числа в десятичной системе счисления. Элементы списков - числа от 0 до 9, представляющие значения разрядов числа. Самый левый разряд - самый больший. Т.е. число 123 будет представлено списком [1, 2, 3]. Ваша задача - вычислить сумму переданных чисел и вернуть список, представляюзщий эту сумму. "
   ]
  },
  {
   "cell_type": "code",
   "execution_count": 21,
   "metadata": {},
   "outputs": [],
   "source": [
    "def sum_two_nums(num1: list[int], num2: list[int]) -> list[int]:\n",
    "    s = 0\n",
    "    for i, n in enumerate(num1[::-1]):\n",
    "        s += 10**i*n\n",
    "    for i, n in enumerate(num2[::-1]):\n",
    "        s += 10**i*n\n",
    "    res = []\n",
    "    while s:\n",
    "        res.append(s % 10)\n",
    "        s //= 10\n",
    "    return res[::-1]"
   ]
  },
  {
   "cell_type": "markdown",
   "metadata": {},
   "source": [
    "**Тесты:**"
   ]
  },
  {
   "cell_type": "code",
   "execution_count": 22,
   "metadata": {},
   "outputs": [],
   "source": [
    "num1 = [1, 2, 3]\n",
    "num2 = [7, 7]\n",
    "\n",
    "assert sum_two_nums(num1, num2) == [2, 0, 0]\n",
    "assert sum_two_nums(num2, num1) == [2, 0, 0]"
   ]
  },
  {
   "cell_type": "markdown",
   "metadata": {},
   "source": [
    "### Задача 2: Объеденяй и не властвуй\n",
    "\n",
    "На вход подан список intervals, где intervals[ i ] = [$start_i$, $stop_i$]. Объедените все пересекающиеся интервалы и верните список непересекающихся интервалов, покрывающий все интервалы из intervals."
   ]
  },
  {
   "cell_type": "code",
   "execution_count": 19,
   "metadata": {},
   "outputs": [],
   "source": [
    "def merge_intervals(intervals: list[list[int]]) -> list[list[int]]:\n",
    "    intervals.sort()\n",
    "    res = [intervals[0]]\n",
    "    for interval in intervals:\n",
    "        if interval[0] <= res[-1][-1]:\n",
    "            res[-1][-1] = max(interval[-1], res[-1][-1])\n",
    "        else:\n",
    "            res.append(interval)"
   ]
  },
  {
   "cell_type": "markdown",
   "metadata": {},
   "source": [
    "**Тесты:**"
   ]
  },
  {
   "cell_type": "code",
   "execution_count": 20,
   "metadata": {},
   "outputs": [
    {
     "ename": "AssertionError",
     "evalue": "",
     "output_type": "error",
     "traceback": [
      "\u001b[1;31m---------------------------------------------------------------------------\u001b[0m",
      "\u001b[1;31mAssertionError\u001b[0m                            Traceback (most recent call last)",
      "\u001b[1;32mc:\\Users\\Акрамов Никита\\OneDrive\\projects\\Python_projects\\python_mipt_dafe\\lessons\\lesson3\\sem3_313\\tasks.ipynb Cell 11\u001b[0m line \u001b[0;36m2\n\u001b[0;32m      <a href='vscode-notebook-cell:/c%3A/Users/%D0%90%D0%BA%D1%80%D0%B0%D0%BC%D0%BE%D0%B2%20%D0%9D%D0%B8%D0%BA%D0%B8%D1%82%D0%B0/OneDrive/projects/Python_projects/python_mipt_dafe/lessons/lesson3/sem3_313/tasks.ipynb#X13sZmlsZQ%3D%3D?line=0'>1</a>\u001b[0m intervals \u001b[39m=\u001b[39m [[\u001b[39m1\u001b[39m,\u001b[39m3\u001b[39m],[\u001b[39m2\u001b[39m,\u001b[39m6\u001b[39m],[\u001b[39m8\u001b[39m,\u001b[39m10\u001b[39m],[\u001b[39m15\u001b[39m,\u001b[39m18\u001b[39m]]\n\u001b[1;32m----> <a href='vscode-notebook-cell:/c%3A/Users/%D0%90%D0%BA%D1%80%D0%B0%D0%BC%D0%BE%D0%B2%20%D0%9D%D0%B8%D0%BA%D0%B8%D1%82%D0%B0/OneDrive/projects/Python_projects/python_mipt_dafe/lessons/lesson3/sem3_313/tasks.ipynb#X13sZmlsZQ%3D%3D?line=1'>2</a>\u001b[0m \u001b[39massert\u001b[39;00m merge_intervals(intervals) \u001b[39m==\u001b[39m [[\u001b[39m1\u001b[39m,\u001b[39m6\u001b[39m],[\u001b[39m8\u001b[39m,\u001b[39m10\u001b[39m],[\u001b[39m15\u001b[39m,\u001b[39m18\u001b[39m]]\n",
      "\u001b[1;31mAssertionError\u001b[0m: "
     ]
    }
   ],
   "source": [
    "intervals = [[1,3],[2,6],[8,10],[15,18]]\n",
    "assert merge_intervals(intervals) == [[1,6],[8,10],[15,18]]"
   ]
  },
  {
   "cell_type": "markdown",
   "metadata": {},
   "source": [
    "### Задача 3: Удалим дубликаты\n",
    "\n",
    "Дан список nums, отсортированный в неубывающем порядке. Ваша задача удалить дублирующиеся элементы **на месте** так, чтобы каждый уникальный элемент массива имел лишь одно вхождение. При этом относительный порядок следования элементов должен остаться без изменений."
   ]
  },
  {
   "cell_type": "code",
   "execution_count": 29,
   "metadata": {},
   "outputs": [],
   "source": [
    "def remove_duplicates(nums: list[int]) -> None:\n",
    "    no_dubs = []\n",
    "    i = 0\n",
    "    while i < len(nums):\n",
    "        if nums[i] in no_dubs:\n",
    "            del nums[i]\n",
    "        else:\n",
    "            no_dubs.append(nums[i])\n",
    "            i += 1"
   ]
  },
  {
   "cell_type": "markdown",
   "metadata": {},
   "source": [
    "**Тесты:**"
   ]
  },
  {
   "cell_type": "code",
   "execution_count": 30,
   "metadata": {},
   "outputs": [],
   "source": [
    "nums = [1, 1, 2]\n",
    "\n",
    "remove_duplicates(nums)\n",
    "assert nums == [1, 2]"
   ]
  },
  {
   "cell_type": "markdown",
   "metadata": {},
   "source": [
    "### Задача 4: Уникальные пути\n",
    "\n",
    "Вам дано двумерное поле размера m X n. В левом верхнем углу (grid[0][0]) расположен робот. Робот старается добраться до правого нижнего угла (grid[-1][-1]). Робот может ходить только вниз или вправо. \n",
    "\n",
    "Свободные клетки и препятствия помечены в массиве grid 0 и 1 соответственно. Пути робот из верхнего левого угла в правый нижний угол могут проходить только через свободные клетки. \n",
    "\n",
    "Ваша задача - вычислить максимальное возможное количество уникальных путей из левого верхнего угла в правый нижний угол."
   ]
  },
  {
   "cell_type": "code",
   "execution_count": 25,
   "metadata": {},
   "outputs": [],
   "source": [
    "def compute_unique_pathes(grid: list[list[int]]) -> int:\n",
    "    new_grid = [[0] * len(grid[0]) for i in range(len(grid))]\n",
    "    new_grid[0][0] = 1\n",
    "    for i in range(1, len(grid)):\n",
    "        if grid[i][0] == 0:\n",
    "            new_grid[i][0] = new_grid[i - 1][0]\n",
    "        else:\n",
    "            new_grid[i][0] = 0\n",
    "    for j in range(1, len(grid[0])):\n",
    "        if grid[0][j] == 0:\n",
    "            new_grid[0][j] = new_grid[0][j - 1]\n",
    "        else: \n",
    "            new_grid[0][j] = 0\n",
    "    for i in range(1, len(grid)):\n",
    "        for j in range(1, len(grid[0])):\n",
    "            if grid[i][j] == 0:\n",
    "                new_grid[i][j] = new_grid[i - 1][j] + new_grid[i][j - 1]\n",
    "    return new_grid[-1][-1]"
   ]
  },
  {
   "cell_type": "markdown",
   "metadata": {},
   "source": [
    "**Тесты:**"
   ]
  },
  {
   "cell_type": "code",
   "execution_count": 26,
   "metadata": {},
   "outputs": [],
   "source": [
    "grid = [\n",
    "    [0, 0, 0],\n",
    "    [0, 1, 0],\n",
    "    [0, 0, 0]\n",
    "]\n",
    "\n",
    "assert compute_unique_pathes(grid) == 2"
   ]
  },
  {
   "cell_type": "markdown",
   "metadata": {},
   "source": [
    "### Задача 5: Игра в прыжки\n",
    "\n",
    "Вам дан список jumps, состоящий из целых чисел, индексирующийся с нуля и имеющий длину n. Вы начинаете движение с позиции jumps[0]. Каждый элемент списка jumps[i] представляет собой длину максимального прыжка вперед с позиции i: если вы находитесь в позиции i, вы можете прыжком переместиться на любую позицию от i до i + jumps[i].\n",
    "\n",
    "Ваша задача - определить минимальное число прыжков, необходимое для достижения позиции n - 1."
   ]
  },
  {
   "cell_type": "code",
   "execution_count": 23,
   "metadata": {},
   "outputs": [],
   "source": [
    "def jump(jumps: list[int], i: int = 0) -> int:\n",
    "    if i+1 == len(jumps):\n",
    "        return 0\n",
    "    all_jumps = []\n",
    "    for j in range(i+1, min(i+1+jumps[i], len(jumps))):\n",
    "        all_jumps.append(1 + jump(jumps, j))\n",
    "    return min(all_jumps)"
   ]
  },
  {
   "cell_type": "markdown",
   "metadata": {},
   "source": [
    "**Тесты:**"
   ]
  },
  {
   "cell_type": "code",
   "execution_count": 24,
   "metadata": {},
   "outputs": [],
   "source": [
    "jumps = [2,3,1,1,4]\n",
    "assert jump(jumps) == 2"
   ]
  }
 ],
 "metadata": {
  "kernelspec": {
   "display_name": "Python 3",
   "language": "python",
   "name": "python3"
  },
  "language_info": {
   "codemirror_mode": {
    "name": "ipython",
    "version": 3
   },
   "file_extension": ".py",
   "mimetype": "text/x-python",
   "name": "python",
   "nbconvert_exporter": "python",
   "pygments_lexer": "ipython3",
   "version": "3.11.5"
  },
  "orig_nbformat": 4
 },
 "nbformat": 4,
 "nbformat_minor": 2
}
